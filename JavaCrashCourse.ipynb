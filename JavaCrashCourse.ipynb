{
 "cells": [
  {
   "cell_type": "markdown",
   "metadata": {},
   "source": [
    "# Welcome to the Java Crash Course!\n",
    "---"
   ]
  },
  {
   "cell_type": "markdown",
   "metadata": {},
   "source": [
    "\n",
    "## What is programming?\n",
    "\n",
    "**Informally, it is writing a structured series of steps in a language that a computer can understand to accomplish a task.**\n",
    "\n",
    "These steps are comprise of commands that perform some kind of built-in function of the computer and may often involve manipulating some sort of data.\n",
    "\n",
    "The language we'll be writing in is called Java, and well introduce some of its basic concepts in this notebook. To reinforce these ideas, however, we'll also be programming a simple calculator. The template for the calculator can be found here: <https://github.com/FRC-9747/JCC-CalculatorTemplate>  \n",
    "\n",
    "Check out this video for a short introduction to Java: <https://www.youtube.com/watch?v=l9AzO1FMgM8>"
   ]
  },
  {
   "cell_type": "markdown",
   "metadata": {},
   "source": [
    "## Variables"
   ]
  },
  {
   "cell_type": "markdown",
   "metadata": {},
   "source": [
    "## Functions"
   ]
  },
  {
   "cell_type": "markdown",
   "metadata": {},
   "source": [
    "## If-Statements"
   ]
  },
  {
   "cell_type": "markdown",
   "metadata": {},
   "source": [
    "## Loops"
   ]
  }
 ],
 "metadata": {
  "kernelspec": {
   "display_name": "Java",
   "language": "java",
   "name": "java"
  },
  "language_info": {
   "codemirror_mode": "java",
   "file_extension": ".jshell",
   "mimetype": "text/x-java-source",
   "name": "Java",
   "pygments_lexer": "java",
   "version": "21.0.2+13-LTS"
  }
 },
 "nbformat": 4,
 "nbformat_minor": 2
}
