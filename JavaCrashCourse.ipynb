{
 "cells": [
  {
   "cell_type": "markdown",
   "metadata": {},
   "source": [
    "# Welcome to the Java Crash Course!\n",
    "---"
   ]
  },
  {
   "cell_type": "markdown",
   "metadata": {},
   "source": [
    "\n",
    "## What is programming?\n",
    "\n",
    "**Informally, it is writing a structured series of steps in a language that a computer can understand to accomplish a task.**\n",
    "\n",
    "These steps are comprise of commands that perform some kind of built-in function to the computer and may often involve manipulating some sort of data.\n",
    "\n",
    "The language we'll be writing in is called Java, and well introduce some of its basic concepts in this notebook. To reinforce these ideas, however, we'll also be programming a simple calculator. The template for the calculator can be found in the \"CalculatorJCC.java\" file.\n",
    "\n",
    "Check out this video for a short introduction to Java: <https://www.youtube.com/watch?v=l9AzO1FMgM8>"
   ]
  },
  {
   "cell_type": "markdown",
   "metadata": {},
   "source": [
    "## Your first program!"
   ]
  },
  {
   "cell_type": "markdown",
   "metadata": {},
   "source": [
    "## Variables\n",
    "\n",
    "Variables are one of the basic building blocks of a program. As mentioned previously, in writing a program we may want to manipulate some sort of data. That data needs to be stored somewhere and have some way for us to refer to it for later use. This storage and reference mechanism are called variables.\n",
    "\n",
    "### Creating Variables\n",
    "\n",
    "### Assigning Values to Variables"
   ]
  },
  {
   "cell_type": "markdown",
   "metadata": {},
   "source": [
    "### Examples"
   ]
  },
  {
   "cell_type": "code",
   "execution_count": null,
   "metadata": {
    "vscode": {
     "languageId": "java"
    }
   },
   "outputs": [],
   "source": [
    "// Declare a integer variable called \"studentCount\"\n",
    "int studentCount;"
   ]
  },
  {
   "cell_type": "code",
   "execution_count": null,
   "metadata": {
    "vscode": {
     "languageId": "java"
    }
   },
   "outputs": [],
   "source": [
    "// Declare a double variable called \"armAngle\"\n",
    "double armAngle;\n",
    "\n",
    "// Assign \"armAngle\" the value 90.5\n",
    "armAngle = 90.5;"
   ]
  },
  {
   "cell_type": "code",
   "execution_count": null,
   "metadata": {
    "vscode": {
     "languageId": "java"
    }
   },
   "outputs": [],
   "source": [
    "// Initialize a string variable called \"hello\" with the value \"Hello, World!\"\n",
    "String hello = \"Hello, World!\";"
   ]
  },
  {
   "cell_type": "markdown",
   "metadata": {},
   "source": [
    "### Try it yourself!\n",
    "\n",
    "Write the code described in the comments in the following block and run it. It should output: \"Hello, User! I'm robot that's 60.75 inches tall and have 3 arms.\" "
   ]
  },
  {
   "cell_type": "code",
   "execution_count": null,
   "metadata": {
    "vscode": {
     "languageId": "java"
    }
   },
   "outputs": [],
   "source": [
    "// Initialize an integer variable called \"numOfArms\" to the value 3\n",
    "\n",
    "// Initialize a double variable called \"height\" to the value 60.75\n",
    "\n",
    "// Initialize a string variable called \"name\" to the value \"User\"\n",
    "\n",
    "System.out.println(\"Hello, \" + name + \"! I'm a robot that's \" + Double.toString(height) + \" inches tall and have \" + Integer.toString(numOfArms) + \" arms.\")"
   ]
  },
  {
   "cell_type": "markdown",
   "metadata": {},
   "source": [
    "## Functions"
   ]
  },
  {
   "cell_type": "markdown",
   "metadata": {},
   "source": [
    "## If-Statements"
   ]
  },
  {
   "cell_type": "markdown",
   "metadata": {},
   "source": [
    "## Loops"
   ]
  }
 ],
 "metadata": {
  "kernelspec": {
   "display_name": "Java",
   "language": "java",
   "name": "java"
  },
  "language_info": {
   "codemirror_mode": "java",
   "file_extension": ".jshell",
   "mimetype": "text/x-java-source",
   "name": "Java",
   "pygments_lexer": "java",
   "version": "21.0.4+7-LTS"
  }
 },
 "nbformat": 4,
 "nbformat_minor": 2
}
